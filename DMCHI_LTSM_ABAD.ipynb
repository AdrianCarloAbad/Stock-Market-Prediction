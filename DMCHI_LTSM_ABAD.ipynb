{
 "cells": [
  {
   "cell_type": "code",
   "execution_count": 1,
   "id": "0730ccb8",
   "metadata": {},
   "outputs": [],
   "source": [
    "from keras.models import Sequential\n",
    "from keras.layers import Dense, LSTM, Dropout, Activation\n",
    "\n",
    "from sklearn.preprocessing import MinMaxScaler\n",
    "\n",
    "import numpy as np # linear algebra\n",
    "import pandas as pd # data processing, CSV file I/O (e.g. pd.read_csv)\n",
    "\n",
    "\n",
    "import matplotlib.pyplot as plt"
   ]
  },
  {
   "cell_type": "code",
   "execution_count": 2,
   "id": "ff9f29d5",
   "metadata": {},
   "outputs": [],
   "source": [
    "train = pd.read_csv('DMCHY.csv')\n",
    "test = pd.read_csv('DMCHY.csv')"
   ]
  },
  {
   "cell_type": "code",
   "execution_count": 3,
   "id": "afa22f98",
   "metadata": {},
   "outputs": [],
   "source": [
    "metric = 'Open' # What matric to model and predict\n",
    "timestamp = 64 # Maximum number of timestamps to learn from\n",
    "layers = 3 # Number of layers in LSTM\n",
    "neurons = 264 # Number of neurons in each layer\n",
    "epochs = 64 # Number of times the entire data needs to be looped upon\n",
    "batch_size = 16 # Weights updated after n rows\n",
    "validation_split = 0.1 # Percentage of data to validate the model when training\n",
    "dropout = 0.2 # Regularisation parameter\n",
    "optimizer = 'adam' \n",
    "loss = 'mean_squared_error'"
   ]
  },
  {
   "cell_type": "code",
   "execution_count": 4,
   "id": "011aca51",
   "metadata": {},
   "outputs": [],
   "source": [
    "loc = train.columns.get_loc(metric)\n",
    "train_data = train.iloc[:,loc:loc + 1].values"
   ]
  },
  {
   "cell_type": "code",
   "execution_count": 5,
   "id": "45e8b7aa",
   "metadata": {},
   "outputs": [],
   "source": [
    "sc = MinMaxScaler(feature_range = (0,1))\n",
    "\n",
    "train_data = sc.fit_transform(train_data)"
   ]
  },
  {
   "cell_type": "code",
   "execution_count": 6,
   "id": "31cb0836",
   "metadata": {},
   "outputs": [],
   "source": [
    "train_x = []\n",
    "train_y = []\n",
    "for i in range(0, len(train_data) - timestamp - 1):\n",
    "    train_x.append(train_data[i : i + timestamp, 0])\n",
    "    train_y.append(train_data[i + timestamp, 0])\n",
    "train_x, train_y = np.array(train_x), np.array(train_y)"
   ]
  },
  {
   "cell_type": "code",
   "execution_count": 7,
   "id": "3fad12e1",
   "metadata": {},
   "outputs": [],
   "source": [
    "train_x = np.reshape(train_x, (train_x.shape[0],train_x.shape[1],1))"
   ]
  },
  {
   "cell_type": "code",
   "execution_count": 8,
   "id": "aa1423b3",
   "metadata": {},
   "outputs": [],
   "source": [
    "regressor = Sequential()\n",
    "regressor.add(LSTM(neurons, return_sequences = True, input_shape = (train_x.shape[1],1)))\n",
    "regressor.add(Dropout(dropout))\n",
    "\n",
    "if layers > 2:\n",
    "    for i in range(2,layers):\n",
    "        regressor.add(LSTM(neurons, return_sequences = True))\n",
    "        regressor.add(Dropout(dropout))\n",
    "\n",
    "regressor.add(LSTM(neurons))\n",
    "regressor.add(Dropout(dropout))\n",
    "\n",
    "regressor.add(Dense(units = 1))\n",
    "\n",
    "regressor.compile(optimizer = optimizer,loss = loss)"
   ]
  },
  {
   "cell_type": "code",
   "execution_count": 9,
   "id": "565754d2",
   "metadata": {},
   "outputs": [
    {
     "name": "stdout",
     "output_type": "stream",
     "text": [
      "Model: \"sequential\"\n",
      "_________________________________________________________________\n",
      " Layer (type)                Output Shape              Param #   \n",
      "=================================================================\n",
      " lstm (LSTM)                 (None, 64, 264)           280896    \n",
      "                                                                 \n",
      " dropout (Dropout)           (None, 64, 264)           0         \n",
      "                                                                 \n",
      " lstm_1 (LSTM)               (None, 64, 264)           558624    \n",
      "                                                                 \n",
      " dropout_1 (Dropout)         (None, 64, 264)           0         \n",
      "                                                                 \n",
      " lstm_2 (LSTM)               (None, 264)               558624    \n",
      "                                                                 \n",
      " dropout_2 (Dropout)         (None, 264)               0         \n",
      "                                                                 \n",
      " dense (Dense)               (None, 1)                 265       \n",
      "                                                                 \n",
      "=================================================================\n",
      "Total params: 1,398,409\n",
      "Trainable params: 1,398,409\n",
      "Non-trainable params: 0\n",
      "_________________________________________________________________\n"
     ]
    }
   ],
   "source": [
    "regressor.summary()"
   ]
  },
  {
   "cell_type": "code",
   "execution_count": 10,
   "id": "e3b7fc62",
   "metadata": {},
   "outputs": [
    {
     "name": "stdout",
     "output_type": "stream",
     "text": [
      "Epoch 1/64\n",
      "25/25 [==============================] - 16s 384ms/step - loss: 0.0758 - val_loss: 4.7582e-04\n",
      "Epoch 2/64\n",
      "25/25 [==============================] - 8s 306ms/step - loss: 0.0080 - val_loss: 6.2075e-04\n",
      "Epoch 3/64\n",
      "25/25 [==============================] - 8s 328ms/step - loss: 0.0059 - val_loss: 6.7150e-06\n",
      "Epoch 4/64\n",
      "25/25 [==============================] - 9s 355ms/step - loss: 0.0051 - val_loss: 0.0067\n",
      "Epoch 5/64\n",
      "25/25 [==============================] - 9s 349ms/step - loss: 0.0058 - val_loss: 4.6485e-05\n",
      "Epoch 6/64\n",
      "25/25 [==============================] - 8s 329ms/step - loss: 0.0049 - val_loss: 0.0016\n",
      "Epoch 7/64\n",
      "25/25 [==============================] - 8s 311ms/step - loss: 0.0049 - val_loss: 9.8995e-06\n",
      "Epoch 8/64\n",
      "25/25 [==============================] - 8s 318ms/step - loss: 0.0069 - val_loss: 0.0095\n",
      "Epoch 9/64\n",
      "25/25 [==============================] - 8s 309ms/step - loss: 0.0059 - val_loss: 6.3472e-05\n",
      "Epoch 10/64\n",
      "25/25 [==============================] - 8s 316ms/step - loss: 0.0045 - val_loss: 4.2432e-05\n",
      "Epoch 11/64\n",
      "25/25 [==============================] - 8s 313ms/step - loss: 0.0059 - val_loss: 0.0013\n",
      "Epoch 12/64\n",
      "25/25 [==============================] - 9s 351ms/step - loss: 0.0046 - val_loss: 5.2218e-05\n",
      "Epoch 13/64\n",
      "25/25 [==============================] - 9s 380ms/step - loss: 0.0041 - val_loss: 1.3141e-06\n",
      "Epoch 14/64\n",
      "25/25 [==============================] - 9s 365ms/step - loss: 0.0043 - val_loss: 6.2538e-04\n",
      "Epoch 15/64\n",
      "25/25 [==============================] - 9s 344ms/step - loss: 0.0042 - val_loss: 4.9516e-04\n",
      "Epoch 16/64\n",
      "25/25 [==============================] - 8s 337ms/step - loss: 0.0040 - val_loss: 1.0399e-04\n",
      "Epoch 17/64\n",
      "25/25 [==============================] - 9s 352ms/step - loss: 0.0043 - val_loss: 3.8778e-05\n",
      "Epoch 18/64\n",
      "25/25 [==============================] - 8s 337ms/step - loss: 0.0042 - val_loss: 1.2457e-04\n",
      "Epoch 19/64\n",
      "25/25 [==============================] - 9s 348ms/step - loss: 0.0037 - val_loss: 1.8734e-04\n",
      "Epoch 20/64\n",
      "25/25 [==============================] - 9s 358ms/step - loss: 0.0037 - val_loss: 3.7725e-04\n",
      "Epoch 21/64\n",
      "25/25 [==============================] - 9s 355ms/step - loss: 0.0048 - val_loss: 5.0881e-04\n",
      "Epoch 22/64\n",
      "25/25 [==============================] - 9s 346ms/step - loss: 0.0043 - val_loss: 0.0022\n",
      "Epoch 23/64\n",
      "25/25 [==============================] - 9s 348ms/step - loss: 0.0040 - val_loss: 0.0032\n",
      "Epoch 24/64\n",
      "25/25 [==============================] - 9s 353ms/step - loss: 0.0038 - val_loss: 1.5805e-06\n",
      "Epoch 25/64\n",
      "25/25 [==============================] - 9s 360ms/step - loss: 0.0035 - val_loss: 3.3796e-05\n",
      "Epoch 26/64\n",
      "25/25 [==============================] - 9s 365ms/step - loss: 0.0040 - val_loss: 0.0026\n",
      "Epoch 27/64\n",
      "25/25 [==============================] - 9s 343ms/step - loss: 0.0039 - val_loss: 7.1720e-05\n",
      "Epoch 28/64\n",
      "25/25 [==============================] - 9s 377ms/step - loss: 0.0034 - val_loss: 1.2207e-04\n",
      "Epoch 29/64\n",
      "25/25 [==============================] - 9s 351ms/step - loss: 0.0040 - val_loss: 2.4788e-04\n",
      "Epoch 30/64\n",
      "25/25 [==============================] - 10s 401ms/step - loss: 0.0039 - val_loss: 3.3928e-04\n",
      "Epoch 31/64\n",
      "25/25 [==============================] - 10s 389ms/step - loss: 0.0036 - val_loss: 9.8366e-04\n",
      "Epoch 32/64\n",
      "25/25 [==============================] - 9s 362ms/step - loss: 0.0048 - val_loss: 0.0053\n",
      "Epoch 33/64\n",
      "25/25 [==============================] - 9s 358ms/step - loss: 0.0039 - val_loss: 0.0017\n",
      "Epoch 34/64\n",
      "25/25 [==============================] - 10s 403ms/step - loss: 0.0034 - val_loss: 5.8856e-06\n",
      "Epoch 35/64\n",
      "25/25 [==============================] - 11s 420ms/step - loss: 0.0030 - val_loss: 1.0214e-06\n",
      "Epoch 36/64\n",
      "25/25 [==============================] - 10s 407ms/step - loss: 0.0033 - val_loss: 0.0036\n",
      "Epoch 37/64\n",
      "25/25 [==============================] - 9s 358ms/step - loss: 0.0036 - val_loss: 1.9949e-04\n",
      "Epoch 38/64\n",
      "25/25 [==============================] - 9s 372ms/step - loss: 0.0040 - val_loss: 0.0017\n",
      "Epoch 39/64\n",
      "25/25 [==============================] - 9s 379ms/step - loss: 0.0031 - val_loss: 6.1504e-04\n",
      "Epoch 40/64\n",
      "25/25 [==============================] - 9s 370ms/step - loss: 0.0035 - val_loss: 0.0012\n",
      "Epoch 41/64\n",
      "25/25 [==============================] - 9s 359ms/step - loss: 0.0034 - val_loss: 2.7689e-05\n",
      "Epoch 42/64\n",
      "25/25 [==============================] - 9s 365ms/step - loss: 0.0031 - val_loss: 1.7483e-04\n",
      "Epoch 43/64\n",
      "25/25 [==============================] - 9s 359ms/step - loss: 0.0031 - val_loss: 3.3655e-04\n",
      "Epoch 44/64\n",
      "25/25 [==============================] - 9s 356ms/step - loss: 0.0026 - val_loss: 1.2532e-05\n",
      "Epoch 45/64\n",
      "25/25 [==============================] - 9s 359ms/step - loss: 0.0030 - val_loss: 3.5747e-04\n",
      "Epoch 46/64\n",
      "25/25 [==============================] - 9s 360ms/step - loss: 0.0030 - val_loss: 4.0603e-04\n",
      "Epoch 47/64\n",
      "25/25 [==============================] - 9s 361ms/step - loss: 0.0026 - val_loss: 2.1762e-04\n",
      "Epoch 48/64\n",
      "25/25 [==============================] - 10s 382ms/step - loss: 0.0028 - val_loss: 1.0590e-04\n",
      "Epoch 49/64\n",
      "25/25 [==============================] - 9s 363ms/step - loss: 0.0026 - val_loss: 6.2681e-05\n",
      "Epoch 50/64\n",
      "25/25 [==============================] - 9s 359ms/step - loss: 0.0024 - val_loss: 3.4184e-04\n",
      "Epoch 51/64\n",
      "25/25 [==============================] - 9s 356ms/step - loss: 0.0028 - val_loss: 3.5820e-04\n",
      "Epoch 52/64\n",
      "25/25 [==============================] - 9s 365ms/step - loss: 0.0027 - val_loss: 1.4395e-04\n",
      "Epoch 53/64\n",
      "25/25 [==============================] - 10s 401ms/step - loss: 0.0024 - val_loss: 5.0918e-05\n",
      "Epoch 54/64\n",
      "25/25 [==============================] - 9s 372ms/step - loss: 0.0027 - val_loss: 1.3153e-04\n",
      "Epoch 55/64\n",
      "25/25 [==============================] - 9s 372ms/step - loss: 0.0033 - val_loss: 7.4032e-04\n",
      "Epoch 56/64\n",
      "25/25 [==============================] - 9s 365ms/step - loss: 0.0037 - val_loss: 0.0010\n",
      "Epoch 57/64\n",
      "25/25 [==============================] - 9s 366ms/step - loss: 0.0024 - val_loss: 5.4525e-04\n",
      "Epoch 58/64\n",
      "25/25 [==============================] - 9s 371ms/step - loss: 0.0027 - val_loss: 4.3741e-06\n",
      "Epoch 59/64\n",
      "25/25 [==============================] - 9s 372ms/step - loss: 0.0024 - val_loss: 0.0011\n",
      "Epoch 60/64\n",
      "25/25 [==============================] - 10s 392ms/step - loss: 0.0027 - val_loss: 1.1612e-05\n",
      "Epoch 61/64\n",
      "25/25 [==============================] - 10s 396ms/step - loss: 0.0023 - val_loss: 6.3583e-06\n",
      "Epoch 62/64\n",
      "25/25 [==============================] - 9s 365ms/step - loss: 0.0021 - val_loss: 6.2400e-04\n",
      "Epoch 63/64\n",
      "25/25 [==============================] - 9s 364ms/step - loss: 0.0025 - val_loss: 1.6807e-06\n",
      "Epoch 64/64\n",
      "25/25 [==============================] - 9s 364ms/step - loss: 0.0023 - val_loss: 5.3681e-05\n"
     ]
    },
    {
     "data": {
      "text/plain": [
       "<keras.callbacks.History at 0x28671e0af40>"
      ]
     },
     "execution_count": 10,
     "metadata": {},
     "output_type": "execute_result"
    }
   ],
   "source": [
    "regressor.fit(train_x,train_y,epochs = epochs, batch_size = batch_size, validation_split = validation_split)"
   ]
  },
  {
   "cell_type": "code",
   "execution_count": 11,
   "id": "8dea9325",
   "metadata": {},
   "outputs": [],
   "source": [
    "test_data = pd.concat((train[len(train) - timestamp:][metric], test[metric]), axis = 0)\n",
    "test_data = test_data.values\n",
    "test_data = test_data.reshape(-1,1)"
   ]
  },
  {
   "cell_type": "code",
   "execution_count": 12,
   "id": "74a433dd",
   "metadata": {},
   "outputs": [],
   "source": [
    "test_data = sc.transform(test_data)"
   ]
  },
  {
   "cell_type": "code",
   "execution_count": 13,
   "id": "b3901571",
   "metadata": {},
   "outputs": [],
   "source": [
    "test_x = []\n",
    "test_y = []\n",
    "for i in range(0, len(test_data) - timestamp - 1):\n",
    "    test_x.append(test_data[i : i + timestamp, 0])\n",
    "    test_y.append(test_data[i + timestamp, 0])\n",
    "test_x, test_y = np.array(test_x), np.array(test_y)"
   ]
  },
  {
   "cell_type": "code",
   "execution_count": 14,
   "id": "3f5b5bc2",
   "metadata": {},
   "outputs": [],
   "source": [
    "test_x = np.reshape(test_x, (test_x.shape[0],test_x.shape[1],1))"
   ]
  },
  {
   "cell_type": "code",
   "execution_count": 15,
   "id": "acb68625",
   "metadata": {},
   "outputs": [
    {
     "name": "stdout",
     "output_type": "stream",
     "text": [
      "16/16 [==============================] - 5s 216ms/step\n"
     ]
    }
   ],
   "source": [
    "predicted_price = sc.inverse_transform(regressor.predict(test_x))\n",
    "real_stock_price = test[metric]"
   ]
  },
  {
   "cell_type": "code",
   "execution_count": 16,
   "id": "e20c92d9",
   "metadata": {},
   "outputs": [
    {
     "data": {
      "image/png": "[encoded data removed]",
      "text/plain": [
       "<Figure size 432x288 with 1 Axes>"
      ]
     },
     "metadata": {
      "needs_background": "light"
     },
     "output_type": "display_data"
    }
   ],
   "source": [
    "def plot_pred(metric, real_stock_price, predicted_price):\n",
    "    plt.plot(real_stock_price,color = 'red', label = 'Real Price')\n",
    "    plt.plot(predicted_price, color = 'blue', label = 'Predicted Price')\n",
    "    plt.title('DMCHI ' +metric+ ' Stock Price Prediction')\n",
    "    plt.xlabel('Time')\n",
    "    plt.ylabel('DMCHI ' +metric+ ' Stock Price')\n",
    "    plt.legend()\n",
    "    plt.show()\n",
    "\n",
    "plot_pred(metric, real_stock_price, predicted_price)"
   ]
  },
  {
   "cell_type": "code",
   "execution_count": null,
   "id": "ae281b71",
   "metadata": {},
   "outputs": [],
   "source": []
  }
 ],
 "metadata": {
  "kernelspec": {
   "display_name": "Python 3 (ipykernel)",
   "language": "python",
   "name": "python3"
  },
  "language_info": {
   "codemirror_mode": {
    "name": "ipython",
    "version": 3
   },
   "file_extension": ".py",
   "mimetype": "text/x-python",
   "name": "python",
   "nbconvert_exporter": "python",
   "pygments_lexer": "ipython3",
   "version": "3.9.12"
  }
 },
 "nbformat": 4,
 "nbformat_minor": 5
}
